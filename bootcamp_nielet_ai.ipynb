{
  "nbformat": 4,
  "nbformat_minor": 0,
  "metadata": {
    "colab": {
      "provenance": []
    },
    "kernelspec": {
      "name": "python3",
      "display_name": "Python 3"
    },
    "language_info": {
      "name": "python"
    }
  },
  "cells": [
    {
      "cell_type": "code",
      "execution_count": 1,
      "metadata": {
        "colab": {
          "base_uri": "https://localhost:8080/"
        },
        "id": "K3rnMBRovhrx",
        "outputId": "dc78c3d9-a69f-45f7-f805-0fbcf356d5f4"
      },
      "outputs": [
        {
          "output_type": "stream",
          "name": "stdout",
          "text": [
            "hello, world\n"
          ]
        }
      ],
      "source": [
        "print (\"hello, world\")"
      ]
    },
    {
      "cell_type": "code",
      "source": [
        "a = 5\n",
        "b = 6.5\n",
        "# addition\n",
        "c= a + b\n",
        "print (\" the sum of two number is \", c)"
      ],
      "metadata": {
        "colab": {
          "base_uri": "https://localhost:8080/"
        },
        "id": "37uHeG3evm-L",
        "outputId": "123afa59-3ceb-490a-ed92-41a5329aae87"
      },
      "execution_count": 3,
      "outputs": [
        {
          "output_type": "stream",
          "name": "stdout",
          "text": [
            " the sum of two number is  11.5\n"
          ]
        }
      ]
    },
    {
      "cell_type": "code",
      "source": [
        "j=float(input(\"enter first number\"))\n",
        "k=float(input(\"enter second number\"))\n",
        "l=j*k\n",
        "print(\"the product of two numbers is \",l)"
      ],
      "metadata": {
        "colab": {
          "base_uri": "https://localhost:8080/"
        },
        "id": "_3kwtBuLyC4A",
        "outputId": "a002a311-1a2c-4d41-c522-047ca92bebb8"
      },
      "execution_count": 6,
      "outputs": [
        {
          "output_type": "stream",
          "name": "stdout",
          "text": [
            "enter first number99\n",
            "enter second number98\n",
            "the product of two numbers is  9702.0\n"
          ]
        }
      ]
    }
  ]
}